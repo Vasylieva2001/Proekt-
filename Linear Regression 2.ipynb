{
 "cells": [
  {
   "cell_type": "markdown",
   "id": "a047289d",
   "metadata": {},
   "source": [
    "# Linear Regression"
   ]
  },
  {
   "cell_type": "markdown",
   "id": "c1e32103",
   "metadata": {},
   "source": [
    "## Importing data"
   ]
  },
  {
   "cell_type": "code",
   "execution_count": 54,
   "id": "ca5d3055",
   "metadata": {},
   "outputs": [],
   "source": [
    "#!pip install numpy\n",
    "#!pip install matplotlib\n",
    "#!pip install pandas"
   ]
  },
  {
   "cell_type": "code",
   "execution_count": 55,
   "id": "bec28f64",
   "metadata": {},
   "outputs": [],
   "source": [
    "#!pip list"
   ]
  },
  {
   "cell_type": "code",
   "execution_count": 56,
   "id": "045ab7b4",
   "metadata": {},
   "outputs": [],
   "source": [
    "# Importing the libraries\n",
    "import numpy as np\n",
    "import matplotlib.pyplot as plt\n",
    "import pandas as pd"
   ]
  },
  {
   "cell_type": "code",
   "execution_count": 57,
   "id": "ea4ad419",
   "metadata": {},
   "outputs": [],
   "source": [
    "# Importing the datasets\n",
    "df = pd.read_csv('auto.csv')"
   ]
  },
  {
   "cell_type": "code",
   "execution_count": 58,
   "id": "319b48de",
   "metadata": {},
   "outputs": [
    {
     "data": {
      "text/html": [
       "<div>\n",
       "<style scoped>\n",
       "    .dataframe tbody tr th:only-of-type {\n",
       "        vertical-align: middle;\n",
       "    }\n",
       "\n",
       "    .dataframe tbody tr th {\n",
       "        vertical-align: top;\n",
       "    }\n",
       "\n",
       "    .dataframe thead th {\n",
       "        text-align: right;\n",
       "    }\n",
       "</style>\n",
       "<table border=\"1\" class=\"dataframe\">\n",
       "  <thead>\n",
       "    <tr style=\"text-align: right;\">\n",
       "      <th></th>\n",
       "      <th>mpg</th>\n",
       "      <th>cylinders</th>\n",
       "      <th>displacement</th>\n",
       "      <th>horsepower</th>\n",
       "      <th>weight</th>\n",
       "      <th>acceleration</th>\n",
       "      <th>model year</th>\n",
       "      <th>origin</th>\n",
       "    </tr>\n",
       "  </thead>\n",
       "  <tbody>\n",
       "    <tr>\n",
       "      <th>0</th>\n",
       "      <td>2.890372</td>\n",
       "      <td>8</td>\n",
       "      <td>5.726848</td>\n",
       "      <td>0</td>\n",
       "      <td>3504</td>\n",
       "      <td>12.000000</td>\n",
       "      <td>70</td>\n",
       "      <td>0</td>\n",
       "    </tr>\n",
       "    <tr>\n",
       "      <th>1</th>\n",
       "      <td>2.708050</td>\n",
       "      <td>8</td>\n",
       "      <td>5.857933</td>\n",
       "      <td>1</td>\n",
       "      <td>3693</td>\n",
       "      <td>11.500000</td>\n",
       "      <td>70</td>\n",
       "      <td>0</td>\n",
       "    </tr>\n",
       "    <tr>\n",
       "      <th>2</th>\n",
       "      <td>2.890372</td>\n",
       "      <td>8</td>\n",
       "      <td>5.762051</td>\n",
       "      <td>2</td>\n",
       "      <td>3436</td>\n",
       "      <td>11.000000</td>\n",
       "      <td>70</td>\n",
       "      <td>0</td>\n",
       "    </tr>\n",
       "    <tr>\n",
       "      <th>3</th>\n",
       "      <td>2.772589</td>\n",
       "      <td>8</td>\n",
       "      <td>5.717028</td>\n",
       "      <td>2</td>\n",
       "      <td>3433</td>\n",
       "      <td>12.000000</td>\n",
       "      <td>70</td>\n",
       "      <td>0</td>\n",
       "    </tr>\n",
       "    <tr>\n",
       "      <th>4</th>\n",
       "      <td>2.833213</td>\n",
       "      <td>8</td>\n",
       "      <td>5.710427</td>\n",
       "      <td>3</td>\n",
       "      <td>3449</td>\n",
       "      <td>10.500000</td>\n",
       "      <td>70</td>\n",
       "      <td>0</td>\n",
       "    </tr>\n",
       "    <tr>\n",
       "      <th>...</th>\n",
       "      <td>...</td>\n",
       "      <td>...</td>\n",
       "      <td>...</td>\n",
       "      <td>...</td>\n",
       "      <td>...</td>\n",
       "      <td>...</td>\n",
       "      <td>...</td>\n",
       "      <td>...</td>\n",
       "    </tr>\n",
       "    <tr>\n",
       "      <th>392</th>\n",
       "      <td>3.295837</td>\n",
       "      <td>4</td>\n",
       "      <td>4.941642</td>\n",
       "      <td>30</td>\n",
       "      <td>2790</td>\n",
       "      <td>15.600000</td>\n",
       "      <td>82</td>\n",
       "      <td>0</td>\n",
       "    </tr>\n",
       "    <tr>\n",
       "      <th>393</th>\n",
       "      <td>3.784190</td>\n",
       "      <td>4</td>\n",
       "      <td>4.574711</td>\n",
       "      <td>56</td>\n",
       "      <td>2130</td>\n",
       "      <td>23.838241</td>\n",
       "      <td>82</td>\n",
       "      <td>1</td>\n",
       "    </tr>\n",
       "    <tr>\n",
       "      <th>394</th>\n",
       "      <td>3.465736</td>\n",
       "      <td>4</td>\n",
       "      <td>4.905275</td>\n",
       "      <td>89</td>\n",
       "      <td>2295</td>\n",
       "      <td>11.600000</td>\n",
       "      <td>82</td>\n",
       "      <td>0</td>\n",
       "    </tr>\n",
       "    <tr>\n",
       "      <th>395</th>\n",
       "      <td>3.332205</td>\n",
       "      <td>4</td>\n",
       "      <td>4.787492</td>\n",
       "      <td>67</td>\n",
       "      <td>2625</td>\n",
       "      <td>18.600000</td>\n",
       "      <td>82</td>\n",
       "      <td>0</td>\n",
       "    </tr>\n",
       "    <tr>\n",
       "      <th>396</th>\n",
       "      <td>3.433987</td>\n",
       "      <td>4</td>\n",
       "      <td>4.779123</td>\n",
       "      <td>93</td>\n",
       "      <td>2720</td>\n",
       "      <td>19.400000</td>\n",
       "      <td>82</td>\n",
       "      <td>0</td>\n",
       "    </tr>\n",
       "  </tbody>\n",
       "</table>\n",
       "<p>397 rows × 8 columns</p>\n",
       "</div>"
      ],
      "text/plain": [
       "          mpg  cylinders  displacement  horsepower  weight  acceleration  \\\n",
       "0    2.890372          8      5.726848           0    3504     12.000000   \n",
       "1    2.708050          8      5.857933           1    3693     11.500000   \n",
       "2    2.890372          8      5.762051           2    3436     11.000000   \n",
       "3    2.772589          8      5.717028           2    3433     12.000000   \n",
       "4    2.833213          8      5.710427           3    3449     10.500000   \n",
       "..        ...        ...           ...         ...     ...           ...   \n",
       "392  3.295837          4      4.941642          30    2790     15.600000   \n",
       "393  3.784190          4      4.574711          56    2130     23.838241   \n",
       "394  3.465736          4      4.905275          89    2295     11.600000   \n",
       "395  3.332205          4      4.787492          67    2625     18.600000   \n",
       "396  3.433987          4      4.779123          93    2720     19.400000   \n",
       "\n",
       "     model year  origin  \n",
       "0            70       0  \n",
       "1            70       0  \n",
       "2            70       0  \n",
       "3            70       0  \n",
       "4            70       0  \n",
       "..          ...     ...  \n",
       "392          82       0  \n",
       "393          82       1  \n",
       "394          82       0  \n",
       "395          82       0  \n",
       "396          82       0  \n",
       "\n",
       "[397 rows x 8 columns]"
      ]
     },
     "execution_count": 58,
     "metadata": {},
     "output_type": "execute_result"
    }
   ],
   "source": [
    "df"
   ]
  },
  {
   "cell_type": "markdown",
   "id": "34305d64",
   "metadata": {},
   "source": [
    "# Correlations"
   ]
  },
  {
   "cell_type": "code",
   "execution_count": 59,
   "id": "c8946fed",
   "metadata": {},
   "outputs": [
    {
     "data": {
      "image/png": "[encoded data removed]",
      "text/plain": [
       "<Figure size 864x648 with 2 Axes>"
      ]
     },
     "metadata": {
      "needs_background": "light"
     },
     "output_type": "display_data"
    }
   ],
   "source": [
    "import seaborn as sns\n",
    "corrmat = df.corr()\n",
    "f, ax = plt.subplots(figsize=(12, 9))\n",
    "sns.heatmap(corrmat, annot=True)\n",
    "plt.show()"
   ]
  },
  {
   "cell_type": "markdown",
   "id": "70fb9df2",
   "metadata": {},
   "source": [
    "Как видим одна из наибольшейх корреляций у нас у переменных mpg с horsepower . Поэтому, я буду строить однофакторную модель: зависимость этох факторов."
   ]
  },
  {
   "cell_type": "markdown",
   "id": "c8eee4e2",
   "metadata": {},
   "source": [
    "# Splitting"
   ]
  },
  {
   "cell_type": "code",
   "execution_count": 61,
   "id": "88613378",
   "metadata": {},
   "outputs": [
    {
     "data": {
      "text/html": [
       "<div>\n",
       "<style scoped>\n",
       "    .dataframe tbody tr th:only-of-type {\n",
       "        vertical-align: middle;\n",
       "    }\n",
       "\n",
       "    .dataframe tbody tr th {\n",
       "        vertical-align: top;\n",
       "    }\n",
       "\n",
       "    .dataframe thead th {\n",
       "        text-align: right;\n",
       "    }\n",
       "</style>\n",
       "<table border=\"1\" class=\"dataframe\">\n",
       "  <thead>\n",
       "    <tr style=\"text-align: right;\">\n",
       "      <th></th>\n",
       "      <th>cylinders</th>\n",
       "      <th>displacement</th>\n",
       "      <th>horsepower</th>\n",
       "      <th>weight</th>\n",
       "      <th>acceleration</th>\n",
       "      <th>model year</th>\n",
       "      <th>origin</th>\n",
       "    </tr>\n",
       "  </thead>\n",
       "  <tbody>\n",
       "    <tr>\n",
       "      <th>0</th>\n",
       "      <td>8</td>\n",
       "      <td>5.726848</td>\n",
       "      <td>0</td>\n",
       "      <td>3504</td>\n",
       "      <td>12.000000</td>\n",
       "      <td>70</td>\n",
       "      <td>0</td>\n",
       "    </tr>\n",
       "    <tr>\n",
       "      <th>1</th>\n",
       "      <td>8</td>\n",
       "      <td>5.857933</td>\n",
       "      <td>1</td>\n",
       "      <td>3693</td>\n",
       "      <td>11.500000</td>\n",
       "      <td>70</td>\n",
       "      <td>0</td>\n",
       "    </tr>\n",
       "    <tr>\n",
       "      <th>2</th>\n",
       "      <td>8</td>\n",
       "      <td>5.762051</td>\n",
       "      <td>2</td>\n",
       "      <td>3436</td>\n",
       "      <td>11.000000</td>\n",
       "      <td>70</td>\n",
       "      <td>0</td>\n",
       "    </tr>\n",
       "    <tr>\n",
       "      <th>3</th>\n",
       "      <td>8</td>\n",
       "      <td>5.717028</td>\n",
       "      <td>2</td>\n",
       "      <td>3433</td>\n",
       "      <td>12.000000</td>\n",
       "      <td>70</td>\n",
       "      <td>0</td>\n",
       "    </tr>\n",
       "    <tr>\n",
       "      <th>4</th>\n",
       "      <td>8</td>\n",
       "      <td>5.710427</td>\n",
       "      <td>3</td>\n",
       "      <td>3449</td>\n",
       "      <td>10.500000</td>\n",
       "      <td>70</td>\n",
       "      <td>0</td>\n",
       "    </tr>\n",
       "    <tr>\n",
       "      <th>...</th>\n",
       "      <td>...</td>\n",
       "      <td>...</td>\n",
       "      <td>...</td>\n",
       "      <td>...</td>\n",
       "      <td>...</td>\n",
       "      <td>...</td>\n",
       "      <td>...</td>\n",
       "    </tr>\n",
       "    <tr>\n",
       "      <th>392</th>\n",
       "      <td>4</td>\n",
       "      <td>4.941642</td>\n",
       "      <td>30</td>\n",
       "      <td>2790</td>\n",
       "      <td>15.600000</td>\n",
       "      <td>82</td>\n",
       "      <td>0</td>\n",
       "    </tr>\n",
       "    <tr>\n",
       "      <th>393</th>\n",
       "      <td>4</td>\n",
       "      <td>4.574711</td>\n",
       "      <td>56</td>\n",
       "      <td>2130</td>\n",
       "      <td>23.838241</td>\n",
       "      <td>82</td>\n",
       "      <td>1</td>\n",
       "    </tr>\n",
       "    <tr>\n",
       "      <th>394</th>\n",
       "      <td>4</td>\n",
       "      <td>4.905275</td>\n",
       "      <td>89</td>\n",
       "      <td>2295</td>\n",
       "      <td>11.600000</td>\n",
       "      <td>82</td>\n",
       "      <td>0</td>\n",
       "    </tr>\n",
       "    <tr>\n",
       "      <th>395</th>\n",
       "      <td>4</td>\n",
       "      <td>4.787492</td>\n",
       "      <td>67</td>\n",
       "      <td>2625</td>\n",
       "      <td>18.600000</td>\n",
       "      <td>82</td>\n",
       "      <td>0</td>\n",
       "    </tr>\n",
       "    <tr>\n",
       "      <th>396</th>\n",
       "      <td>4</td>\n",
       "      <td>4.779123</td>\n",
       "      <td>93</td>\n",
       "      <td>2720</td>\n",
       "      <td>19.400000</td>\n",
       "      <td>82</td>\n",
       "      <td>0</td>\n",
       "    </tr>\n",
       "  </tbody>\n",
       "</table>\n",
       "<p>397 rows × 7 columns</p>\n",
       "</div>"
      ],
      "text/plain": [
       "     cylinders  displacement  horsepower  weight  acceleration  model year  \\\n",
       "0            8      5.726848           0    3504     12.000000          70   \n",
       "1            8      5.857933           1    3693     11.500000          70   \n",
       "2            8      5.762051           2    3436     11.000000          70   \n",
       "3            8      5.717028           2    3433     12.000000          70   \n",
       "4            8      5.710427           3    3449     10.500000          70   \n",
       "..         ...           ...         ...     ...           ...         ...   \n",
       "392          4      4.941642          30    2790     15.600000          82   \n",
       "393          4      4.574711          56    2130     23.838241          82   \n",
       "394          4      4.905275          89    2295     11.600000          82   \n",
       "395          4      4.787492          67    2625     18.600000          82   \n",
       "396          4      4.779123          93    2720     19.400000          82   \n",
       "\n",
       "     origin  \n",
       "0         0  \n",
       "1         0  \n",
       "2         0  \n",
       "3         0  \n",
       "4         0  \n",
       "..      ...  \n",
       "392       0  \n",
       "393       1  \n",
       "394       0  \n",
       "395       0  \n",
       "396       0  \n",
       "\n",
       "[397 rows x 7 columns]"
      ]
     },
     "execution_count": 61,
     "metadata": {},
     "output_type": "execute_result"
    }
   ],
   "source": [
    "X = df.iloc[:, [False,True,True,True,True,True,True,True]]\n",
    "y = df['mpg']\n",
    "from sklearn.model_selection import train_test_split\n",
    "X_train, X_test, y_train, y_test = train_test_split(X, y, test_size=0.2, random_state=10)\n",
    "X"
   ]
  },
  {
   "cell_type": "markdown",
   "id": "a5408d43",
   "metadata": {},
   "source": [
    "# Simple Linear Regression"
   ]
  },
  {
   "cell_type": "code",
   "execution_count": 62,
   "id": "fff1dc36",
   "metadata": {},
   "outputs": [
    {
     "data": {
      "text/plain": [
       "(array([0.00646499]), 2.8909689325931236)"
      ]
     },
     "execution_count": 62,
     "metadata": {},
     "output_type": "execute_result"
    }
   ],
   "source": [
    "f1 = ['horsepower']\n",
    "\n",
    "from sklearn.linear_model import LinearRegression\n",
    "sr = LinearRegression().fit(X_train[f1], y_train)\n",
    "\n",
    "sr.coef_, sr.intercept_"
   ]
  },
  {
   "cell_type": "markdown",
   "id": "9fb5b745",
   "metadata": {},
   "source": [
    "mpg=0.0064*horsepower+2.89"
   ]
  },
  {
   "cell_type": "code",
   "execution_count": 63,
   "id": "f0cb2528",
   "metadata": {},
   "outputs": [
    {
     "data": {
      "text/plain": [
       "(0.209, 0.149)"
      ]
     },
     "execution_count": 63,
     "metadata": {},
     "output_type": "execute_result"
    }
   ],
   "source": [
    "y_pred = sr.predict(X_test[f1])\n",
    "\n",
    "sr.score(X_train[f1], y_train).round(3), sr.score(X_test[f1], y_test).round(3)"
   ]
  },
  {
   "cell_type": "code",
   "execution_count": 64,
   "id": "b1ee135c",
   "metadata": {},
   "outputs": [
    {
     "data": {
      "text/plain": [
       "(0.3, 0.3)"
      ]
     },
     "execution_count": 64,
     "metadata": {},
     "output_type": "execute_result"
    }
   ],
   "source": [
    "from sklearn.metrics import mean_squared_error\n",
    "mean_squared_error(y_train, sr.predict(X_train[f1]), squared=False).round(2), mean_squared_error(y_test, y_pred, squared=False).round(2)"
   ]
  },
  {
   "cell_type": "code",
   "execution_count": 66,
   "id": "9be852fa",
   "metadata": {},
   "outputs": [
    {
     "data": {
      "image/png": "[encoded data removed]",
      "text/plain": [
       "<Figure size 432x288 with 1 Axes>"
      ]
     },
     "metadata": {
      "needs_background": "light"
     },
     "output_type": "display_data"
    }
   ],
   "source": [
    "# Visualising the Test set results\n",
    "plt.scatter(X_test['horsepower'], y_test, color = 'red')\n",
    "plt.plot(X_test['horsepower'], sr.predict(X_test[f1]), 'bo')\n",
    "plt.title('mpg vs horsepower (Test set)')\n",
    "plt.xlabel('horsepower')\n",
    "plt.ylabel('mpg')\n",
    "plt.show()"
   ]
  },
  {
   "cell_type": "markdown",
   "id": "c01f8158",
   "metadata": {},
   "source": [
    "# Multiple Linear Regression"
   ]
  },
  {
   "cell_type": "code",
   "execution_count": 67,
   "id": "958d0ffd",
   "metadata": {},
   "outputs": [
    {
     "name": "stdout",
     "output_type": "stream",
     "text": [
      "Requirement already satisfied: statsmodels in c:\\users\\user\\anaconda3\\envs\\liza\\lib\\site-packages (0.13.1)\n",
      "Requirement already satisfied: pandas>=0.25 in c:\\users\\user\\anaconda3\\envs\\liza\\lib\\site-packages (from statsmodels) (1.3.5)\n",
      "Requirement already satisfied: scipy>=1.3 in c:\\users\\user\\anaconda3\\envs\\liza\\lib\\site-packages (from statsmodels) (1.7.3)\n",
      "Requirement already satisfied: numpy>=1.17 in c:\\users\\user\\anaconda3\\envs\\liza\\lib\\site-packages (from statsmodels) (1.22.0)\n",
      "Requirement already satisfied: patsy>=0.5.2 in c:\\users\\user\\anaconda3\\envs\\liza\\lib\\site-packages (from statsmodels) (0.5.2)\n",
      "Requirement already satisfied: python-dateutil>=2.7.3 in c:\\users\\user\\anaconda3\\envs\\liza\\lib\\site-packages (from pandas>=0.25->statsmodels) (2.8.2)\n",
      "Requirement already satisfied: pytz>=2017.3 in c:\\users\\user\\anaconda3\\envs\\liza\\lib\\site-packages (from pandas>=0.25->statsmodels) (2021.3)\n",
      "Requirement already satisfied: six in c:\\users\\user\\anaconda3\\envs\\liza\\lib\\site-packages (from patsy>=0.5.2->statsmodels) (1.16.0)\n"
     ]
    }
   ],
   "source": [
    "!pip install statsmodels"
   ]
  },
  {
   "cell_type": "code",
   "execution_count": 68,
   "id": "93fe8776",
   "metadata": {},
   "outputs": [
    {
     "data": {
      "text/plain": [
       "0.888"
      ]
     },
     "execution_count": 68,
     "metadata": {},
     "output_type": "execute_result"
    }
   ],
   "source": [
    "mr = LinearRegression().fit(X_train, y_train)\n",
    "mr.score(X_train, y_train).round(3)"
   ]
  },
  {
   "cell_type": "code",
   "execution_count": 69,
   "id": "10875f27",
   "metadata": {},
   "outputs": [
    {
     "data": {
      "image/png": "[encoded data removed]",
      "text/plain": [
       "<Figure size 432x288 with 1 Axes>"
      ]
     },
     "metadata": {
      "needs_background": "light"
     },
     "output_type": "display_data"
    }
   ],
   "source": [
    "plt.scatter(X_test['horsepower'], y_test, color = 'red')\n",
    "plt.plot(X_test['horsepower'], mr.predict(X_test), 'bo')\n",
    "plt.title('mpg vs horsepower')\n",
    "plt.xlabel('horsepower')\n",
    "plt.ylabel('mpg')\n",
    "plt.show()"
   ]
  },
  {
   "cell_type": "code",
   "execution_count": 70,
   "id": "2991bd1e",
   "metadata": {},
   "outputs": [
    {
     "data": {
      "text/html": [
       "<table class=\"simpletable\">\n",
       "<caption>OLS Regression Results</caption>\n",
       "<tr>\n",
       "  <th>Dep. Variable:</th>           <td>mpg</td>       <th>  R-squared:         </th> <td>   0.888</td> \n",
       "</tr>\n",
       "<tr>\n",
       "  <th>Model:</th>                   <td>OLS</td>       <th>  Adj. R-squared:    </th> <td>   0.885</td> \n",
       "</tr>\n",
       "<tr>\n",
       "  <th>Method:</th>             <td>Least Squares</td>  <th>  F-statistic:       </th> <td>   348.4</td> \n",
       "</tr>\n",
       "<tr>\n",
       "  <th>Date:</th>             <td>Thu, 06 Jan 2022</td> <th>  Prob (F-statistic):</th> <td>1.62e-142</td>\n",
       "</tr>\n",
       "<tr>\n",
       "  <th>Time:</th>                 <td>01:11:46</td>     <th>  Log-Likelihood:    </th> <td>  238.62</td> \n",
       "</tr>\n",
       "<tr>\n",
       "  <th>No. Observations:</th>      <td>   317</td>      <th>  AIC:               </th> <td>  -461.2</td> \n",
       "</tr>\n",
       "<tr>\n",
       "  <th>Df Residuals:</th>          <td>   309</td>      <th>  BIC:               </th> <td>  -431.2</td> \n",
       "</tr>\n",
       "<tr>\n",
       "  <th>Df Model:</th>              <td>     7</td>      <th>                     </th>     <td> </td>    \n",
       "</tr>\n",
       "<tr>\n",
       "  <th>Covariance Type:</th>      <td>nonrobust</td>    <th>                     </th>     <td> </td>    \n",
       "</tr>\n",
       "</table>\n",
       "<table class=\"simpletable\">\n",
       "<tr>\n",
       "        <td></td>          <th>coef</th>     <th>std err</th>      <th>t</th>      <th>P>|t|</th>  <th>[0.025</th>    <th>0.975]</th>  \n",
       "</tr>\n",
       "<tr>\n",
       "  <th>const</th>        <td>    2.0707</td> <td>    0.260</td> <td>    7.959</td> <td> 0.000</td> <td>    1.559</td> <td>    2.583</td>\n",
       "</tr>\n",
       "<tr>\n",
       "  <th>cylinders</th>    <td>    0.0108</td> <td>    0.012</td> <td>    0.912</td> <td> 0.363</td> <td>   -0.012</td> <td>    0.034</td>\n",
       "</tr>\n",
       "<tr>\n",
       "  <th>displacement</th> <td>   -0.1437</td> <td>    0.054</td> <td>   -2.660</td> <td> 0.008</td> <td>   -0.250</td> <td>   -0.037</td>\n",
       "</tr>\n",
       "<tr>\n",
       "  <th>horsepower</th>   <td>    0.0002</td> <td>    0.000</td> <td>    0.623</td> <td> 0.534</td> <td>   -0.000</td> <td>    0.001</td>\n",
       "</tr>\n",
       "<tr>\n",
       "  <th>weight</th>       <td>   -0.0002</td> <td> 2.27e-05</td> <td>  -10.063</td> <td> 0.000</td> <td>   -0.000</td> <td>   -0.000</td>\n",
       "</tr>\n",
       "<tr>\n",
       "  <th>acceleration</th> <td>    0.0026</td> <td>    0.003</td> <td>    0.921</td> <td> 0.358</td> <td>   -0.003</td> <td>    0.008</td>\n",
       "</tr>\n",
       "<tr>\n",
       "  <th>model year</th>   <td>    0.0308</td> <td>    0.002</td> <td>   15.381</td> <td> 0.000</td> <td>    0.027</td> <td>    0.035</td>\n",
       "</tr>\n",
       "<tr>\n",
       "  <th>origin</th>       <td>    0.0170</td> <td>    0.011</td> <td>    1.494</td> <td> 0.136</td> <td>   -0.005</td> <td>    0.039</td>\n",
       "</tr>\n",
       "</table>\n",
       "<table class=\"simpletable\">\n",
       "<tr>\n",
       "  <th>Omnibus:</th>       <td> 5.477</td> <th>  Durbin-Watson:     </th> <td>   1.872</td>\n",
       "</tr>\n",
       "<tr>\n",
       "  <th>Prob(Omnibus):</th> <td> 0.065</td> <th>  Jarque-Bera (JB):  </th> <td>   7.791</td>\n",
       "</tr>\n",
       "<tr>\n",
       "  <th>Skew:</th>          <td>-0.006</td> <th>  Prob(JB):          </th> <td>  0.0203</td>\n",
       "</tr>\n",
       "<tr>\n",
       "  <th>Kurtosis:</th>      <td> 3.768</td> <th>  Cond. No.          </th> <td>1.26e+05</td>\n",
       "</tr>\n",
       "</table><br/><br/>Notes:<br/>[1] Standard Errors assume that the covariance matrix of the errors is correctly specified.<br/>[2] The condition number is large, 1.26e+05. This might indicate that there are<br/>strong multicollinearity or other numerical problems."
      ],
      "text/plain": [
       "<class 'statsmodels.iolib.summary.Summary'>\n",
       "\"\"\"\n",
       "                            OLS Regression Results                            \n",
       "==============================================================================\n",
       "Dep. Variable:                    mpg   R-squared:                       0.888\n",
       "Model:                            OLS   Adj. R-squared:                  0.885\n",
       "Method:                 Least Squares   F-statistic:                     348.4\n",
       "Date:                Thu, 06 Jan 2022   Prob (F-statistic):          1.62e-142\n",
       "Time:                        01:11:46   Log-Likelihood:                 238.62\n",
       "No. Observations:                 317   AIC:                            -461.2\n",
       "Df Residuals:                     309   BIC:                            -431.2\n",
       "Df Model:                           7                                         \n",
       "Covariance Type:            nonrobust                                         \n",
       "================================================================================\n",
       "                   coef    std err          t      P>|t|      [0.025      0.975]\n",
       "--------------------------------------------------------------------------------\n",
       "const            2.0707      0.260      7.959      0.000       1.559       2.583\n",
       "cylinders        0.0108      0.012      0.912      0.363      -0.012       0.034\n",
       "displacement    -0.1437      0.054     -2.660      0.008      -0.250      -0.037\n",
       "horsepower       0.0002      0.000      0.623      0.534      -0.000       0.001\n",
       "weight          -0.0002   2.27e-05    -10.063      0.000      -0.000      -0.000\n",
       "acceleration     0.0026      0.003      0.921      0.358      -0.003       0.008\n",
       "model year       0.0308      0.002     15.381      0.000       0.027       0.035\n",
       "origin           0.0170      0.011      1.494      0.136      -0.005       0.039\n",
       "==============================================================================\n",
       "Omnibus:                        5.477   Durbin-Watson:                   1.872\n",
       "Prob(Omnibus):                  0.065   Jarque-Bera (JB):                7.791\n",
       "Skew:                          -0.006   Prob(JB):                       0.0203\n",
       "Kurtosis:                       3.768   Cond. No.                     1.26e+05\n",
       "==============================================================================\n",
       "\n",
       "Notes:\n",
       "[1] Standard Errors assume that the covariance matrix of the errors is correctly specified.\n",
       "[2] The condition number is large, 1.26e+05. This might indicate that there are\n",
       "strong multicollinearity or other numerical problems.\n",
       "\"\"\""
      ]
     },
     "execution_count": 70,
     "metadata": {},
     "output_type": "execute_result"
    }
   ],
   "source": [
    "import statsmodels.api as sm\n",
    "X1 = sm.add_constant(X_train)\n",
    "mr1 = sm.OLS(y_train, X1).fit()\n",
    "mr1.summary()"
   ]
  },
  {
   "cell_type": "code",
   "execution_count": 71,
   "id": "7e963219",
   "metadata": {},
   "outputs": [
    {
     "data": {
      "text/plain": [
       "(array([-2.83812052e+06,  2.29989767e-01, -1.59427661e-02, -1.64275145e-02,\n",
       "        -1.24756061e-04, -2.12327790e-01, -3.19174618e-01, -1.06991371e+00,\n",
       "         1.82570753e-02, -1.36320404e-01,  2.15021132e-03, -2.57194542e-05,\n",
       "         4.20914014e-02, -3.86590045e-03, -1.16800838e-02, -5.09887335e-02,\n",
       "        -2.22047739e-03, -1.21113107e-04, -6.58705013e-03,  2.33607851e-02,\n",
       "         1.06508138e-01, -1.30473028e-05, -6.97796028e-07,  1.30520860e-03,\n",
       "        -4.22607094e-05,  1.28934706e-03,  2.68809079e-07, -4.23948352e-05,\n",
       "        -7.80952560e-06,  3.01509144e-04,  1.54745997e-02, -5.34027337e-03,\n",
       "         1.45441254e-03,  2.42125991e-03, -1.81341502e-03, -2.69059219e-02]),\n",
       " 2838136.6059579113)"
      ]
     },
     "execution_count": 71,
     "metadata": {},
     "output_type": "execute_result"
    }
   ],
   "source": [
    "from sklearn.preprocessing import PolynomialFeatures\n",
    "X_train_p = PolynomialFeatures().fit_transform(X_train)\n",
    "X_test_p = PolynomialFeatures().fit_transform(X_test)\n",
    "pr = LinearRegression().fit(X_train_p, y_train)\n",
    "pr.coef_, pr.intercept_"
   ]
  },
  {
   "cell_type": "code",
   "execution_count": 72,
   "id": "3334e9b0",
   "metadata": {},
   "outputs": [
    {
     "data": {
      "text/plain": [
       "0.695"
      ]
     },
     "execution_count": 72,
     "metadata": {},
     "output_type": "execute_result"
    }
   ],
   "source": [
    "y_pred = pr.predict(X_test_p)\n",
    "pr.score(X_train_p, y_train).round(3)"
   ]
  },
  {
   "cell_type": "code",
   "execution_count": 73,
   "id": "38d25b1b",
   "metadata": {},
   "outputs": [
    {
     "data": {
      "text/plain": [
       "(0.19, 0.2)"
      ]
     },
     "execution_count": 73,
     "metadata": {},
     "output_type": "execute_result"
    }
   ],
   "source": [
    "mean_squared_error(y_train, pr.predict(X_train_p), squared=False).round(2), mean_squared_error(y_test, y_pred, squared=False).round(2)"
   ]
  },
  {
   "cell_type": "code",
   "execution_count": 74,
   "id": "3f8ba37a",
   "metadata": {
    "scrolled": true
   },
   "outputs": [
    {
     "data": {
      "image/png": "[encoded data removed]",
      "text/plain": [
       "<Figure size 432x288 with 1 Axes>"
      ]
     },
     "metadata": {
      "needs_background": "light"
     },
     "output_type": "display_data"
    }
   ],
   "source": [
    "plt.scatter(X_test['horsepower'], y_test, color = 'red')\n",
    "plt.plot(X_test['horsepower'], pr.predict(X_test_p), 'bo')\n",
    "plt.title('mpg vs horsepower')\n",
    "plt.xlabel('horsepower')\n",
    "plt.ylabel('mpg')\n",
    "plt.show()"
   ]
  },
  {
   "cell_type": "markdown",
   "id": "c1b012a1",
   "metadata": {},
   "source": [
    "# Pickle"
   ]
  },
  {
   "cell_type": "code",
   "execution_count": 75,
   "id": "0597d118",
   "metadata": {},
   "outputs": [],
   "source": [
    "import pickle\n",
    "obj = {'X_train': X_train, 'X_test': X_test,'y_train': y_train,'y_test': y_test}\n",
    "output = open('data_reg.pkl', 'wb')\n",
    "pickle.dump(obj, output, 2)\n",
    "output.close()"
   ]
  },
  {
   "cell_type": "code",
   "execution_count": null,
   "id": "430007bb",
   "metadata": {},
   "outputs": [],
   "source": []
  }
 ],
 "metadata": {
  "kernelspec": {
   "display_name": "Python 3 (ipykernel)",
   "language": "python",
   "name": "python3"
  },
  "language_info": {
   "codemirror_mode": {
    "name": "ipython",
    "version": 3
   },
   "file_extension": ".py",
   "mimetype": "text/x-python",
   "name": "python",
   "nbconvert_exporter": "python",
   "pygments_lexer": "ipython3",
   "version": "3.8.12"
  }
 },
 "nbformat": 4,
 "nbformat_minor": 5
}
